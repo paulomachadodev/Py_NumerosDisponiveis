{
 "cells": [
  {
   "cell_type": "markdown",
   "metadata": {},
   "source": [
    "INSTRUÇÕES:\n",
    "\n",
    "No arquivo_original.xlsx inclua 2 colunas \"faixa inicial\" e \"faixa final\", nelas preencha o número inicial disponível a o número final disponível em quantas linhas forem necessárias.\n",
    "Ao rodar o código ele criará o arquivo_processado.xlsx contendo todos os números disponíveis entre as faixas, inclusive os números incluídos no incício e fim da faixa em uma única coluna."
   ]
  },
  {
   "cell_type": "code",
   "execution_count": 1,
   "metadata": {},
   "outputs": [
    {
     "name": "stdout",
     "output_type": "stream",
     "text": [
      "Arquivo processado salvo como 'arquivo_processado.xlsx'.\n"
     ]
    }
   ],
   "source": [
    "import pandas as pd\n",
    "\n",
    "# Carregar o arquivo Excel\n",
    "arquivo_entrada = 'arquivo_original.xlsx'  # Substitua pelo nome do seu arquivo\n",
    "arquivo_saida = 'arquivo_processado.xlsx'\n",
    "\n",
    "# Ler a planilha\n",
    "df = pd.read_excel(arquivo_entrada)\n",
    "\n",
    "# Criar uma lista para armazenar os dados gerados\n",
    "resultado = []\n",
    "\n",
    "# Iterar pelas linhas da tabela\n",
    "for _, row in df.iterrows():\n",
    "    inicio = row['Inicio']\n",
    "    fim = row['Fim']\n",
    "    \n",
    "    if inicio == fim:\n",
    "        # Apenas incluir o número inicial se Inicio for igual ao Fim\n",
    "        resultado.append({'Numero': inicio})\n",
    "    else:\n",
    "        # Gerar a sequência de números entre Inicio e Fim\n",
    "        for numero in range(inicio, fim + 1):\n",
    "            resultado.append({'Numero': numero})\n",
    "\n",
    "# Converter o resultado para um DataFrame\n",
    "df_resultado = pd.DataFrame(resultado)\n",
    "\n",
    "# Salvar em um novo arquivo Excel\n",
    "df_resultado.to_excel(arquivo_saida, index=False)\n",
    "\n",
    "print(f\"Arquivo processado salvo como '{arquivo_saida}'.\")\n"
   ]
  }
 ],
 "metadata": {
  "kernelspec": {
   "display_name": "Python 3",
   "language": "python",
   "name": "python3"
  },
  "language_info": {
   "codemirror_mode": {
    "name": "ipython",
    "version": 3
   },
   "file_extension": ".py",
   "mimetype": "text/x-python",
   "name": "python",
   "nbconvert_exporter": "python",
   "pygments_lexer": "ipython3",
   "version": "3.13.0"
  }
 },
 "nbformat": 4,
 "nbformat_minor": 2
}
